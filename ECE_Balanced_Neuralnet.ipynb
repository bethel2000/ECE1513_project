{
 "cells": [
  {
   "cell_type": "markdown",
   "metadata": {},
   "source": [
    "LINK TO DATASET: https://www.kaggle.com/datasets/shivamb/machine-predictive-maintenance-classification/data"
   ]
  },
  {
   "cell_type": "code",
   "execution_count": 1,
   "metadata": {},
   "outputs": [],
   "source": [
    "import numpy as np\n",
    "import matplotlib.pyplot as plt\n",
    "import pandas as pd\n",
    "from sklearn.model_selection import train_test_split\n",
    "from sklearn.preprocessing import LabelEncoder\n",
    "from sklearn.metrics import precision_recall_curve, auc, f1_score\n",
    "import torch\n",
    "import torch.nn as nn\n",
    "import torch.optim as optim\n",
    "from torch.utils.data import TensorDataset, DataLoader\n",
    "from imblearn.over_sampling import SMOTE\n"
   ]
  },
  {
   "cell_type": "code",
   "execution_count": 2,
   "metadata": {},
   "outputs": [],
   "source": [
    "# Read and define the dataset from a csv file into a dataframe\n",
    "dataset = pd.read_csv('predictive_maintenance.csv')\n",
    "\n",
    "# Define a mapping dictionary for encoding\n",
    "type_map = {'L': 0, 'M': 1, 'H': 2}\n",
    "# Encode the \"Type\" column using the mapping dictionary\n",
    "dataset['Type'] = dataset['Type'].map(type_map)\n",
    "\n",
    "# Define the features and targets\n",
    "X = dataset.iloc[:, 2:8].values  # FEATURES\n",
    "y_binary = dataset.iloc[:, 8].values  # BINARY TARGETS OF COLUMN 9"
   ]
  },
  {
   "cell_type": "code",
   "execution_count": 3,
   "metadata": {},
   "outputs": [],
   "source": [
    "# Separate \"not-failed\" and \"failed\" samples\n",
    "not_failed_indices = np.where(y_binary == 0)[0]\n",
    "failed_indices = np.where(y_binary == 1)[0]\n",
    "\n",
    "# Split \"not-failed\" samples\n",
    "X_not_failed_train, X_not_failed_temp, y_not_failed_train_binary, y_not_failed_temp_binary = train_test_split(\n",
    "    X[not_failed_indices], y_binary[not_failed_indices], test_size=0.2, random_state=42)\n",
    "\n",
    "# Split \"failed\" samples\n",
    "X_failed_train, X_failed_temp, y_failed_train_binary, y_failed_temp_binary= train_test_split(\n",
    "    X[failed_indices], y_binary[failed_indices], test_size=0.2, random_state=42)\n"
   ]
  },
  {
   "cell_type": "code",
   "execution_count": 4,
   "metadata": {},
   "outputs": [],
   "source": [
    "# Combine train data for both \"not-failed\" and \"failed\" samples\n",
    "X_train = np.concatenate((X_not_failed_train, X_failed_train))\n",
    "y_train_binary = np.concatenate((y_not_failed_train_binary, y_failed_train_binary))"
   ]
  },
  {
   "cell_type": "code",
   "execution_count": 5,
   "metadata": {},
   "outputs": [],
   "source": [
    "# Split the remaining \"not-failed\" samples for validation and test\n",
    "X_not_failed_val, X_not_failed_test, y_not_failed_val_binary, y_not_failed_test_binary = train_test_split(\n",
    "    X_not_failed_temp, y_not_failed_temp_binary, test_size=0.5, random_state=42)\n",
    "\n",
    "# Combine \"failed\" samples for validation and test\n",
    "X_failed_val, X_failed_test, y_failed_val_binary, y_failed_test_binary = train_test_split(\n",
    "    X_failed_temp, y_failed_temp_binary, test_size=0.5, random_state=42)"
   ]
  },
  {
   "cell_type": "code",
   "execution_count": 6,
   "metadata": {},
   "outputs": [],
   "source": [
    "# Combine validation data\n",
    "X_val = np.concatenate((X_not_failed_val, X_failed_val))\n",
    "y_val_binary = np.concatenate((y_not_failed_val_binary, y_failed_val_binary))\n",
    "\n",
    "# Combine test data\n",
    "X_test = np.concatenate((X_not_failed_test, X_failed_test))\n",
    "y_test_binary = np.concatenate((y_not_failed_test_binary, y_failed_test_binary))"
   ]
  },
  {
   "cell_type": "code",
   "execution_count": 7,
   "metadata": {},
   "outputs": [],
   "source": [
    "# Apply SMOTE on the training data only\n",
    "smote = SMOTE(random_state=42)\n",
    "X_train_resampled, y_train_binary_resampled = smote.fit_resample(X_train, y_train_binary)"
   ]
  },
  {
   "cell_type": "code",
   "execution_count": 8,
   "metadata": {},
   "outputs": [],
   "source": [
    "# Calculate mean and standard deviation of training data\n",
    "X_train_mean = np.mean(X_train_resampled, axis=0)\n",
    "X_train_std = np.std(X_train_resampled, axis=0)\n",
    "\n",
    "# Normalize training, validation, and test data\n",
    "X_train_normalized = (X_train_resampled - X_train_mean) / X_train_std\n",
    "X_val_normalized = (X_val - X_train_mean) / X_train_std\n",
    "X_test_normalized = (X_test - X_train_mean) / X_train_std"
   ]
  },
  {
   "cell_type": "code",
   "execution_count": 9,
   "metadata": {},
   "outputs": [],
   "source": [
    "# Convert data to PyTorch tensors\n",
    "X_train_tensor = torch.tensor(X_train_normalized, dtype=torch.float32)\n",
    "y_train_binary_tensor = torch.tensor(y_train_binary_resampled, dtype=torch.float32).view(-1, 1)\n",
    "\n",
    "X_val_tensor = torch.tensor(X_val_normalized, dtype=torch.float32)\n",
    "y_val_binary_tensor = torch.tensor(y_val_binary, dtype=torch.float32).view(-1, 1)\n",
    "\n",
    "X_test_tensor = torch.tensor(X_test_normalized, dtype=torch.float32)\n",
    "y_test_binary_tensor = torch.tensor(y_test_binary, dtype=torch.float32).view(-1, 1)"
   ]
  },
  {
   "cell_type": "code",
   "execution_count": 10,
   "metadata": {},
   "outputs": [],
   "source": [
    "# Create TensorDataset for train, validation, and test sets for binary classification\n",
    "train_dataset_binary = TensorDataset(X_train_tensor, y_train_binary_tensor)\n",
    "val_dataset_binary = TensorDataset(X_val_tensor, y_val_binary_tensor)\n",
    "test_dataset_binary = TensorDataset(X_test_tensor, y_test_binary_tensor)\n",
    "\n",
    "# Create data loaders for binary classification\n",
    "train_loader_binary = DataLoader(train_dataset_binary, batch_size=16, shuffle=True)\n",
    "val_loader_binary = DataLoader(val_dataset_binary, batch_size=16, shuffle=True)\n",
    "test_loader_binary = DataLoader(test_dataset_binary, batch_size=16, shuffle=False)"
   ]
  },
  {
   "cell_type": "code",
   "execution_count": 11,
   "metadata": {},
   "outputs": [],
   "source": [
    "class Binary_model(nn.Module):\n",
    "    def __init__(self, input_dim):\n",
    "        super(Binary_model, self).__init__()\n",
    "        self.fc1 = nn.Linear(input_dim, 64)\n",
    "        self.fc2 = nn.Linear(64, 32)\n",
    "        self.fc3 = nn.Linear(32, 1)\n",
    "        self.sigmoid = nn.Sigmoid()\n",
    "\n",
    "    def forward(self, x):\n",
    "        x = torch.relu(self.fc1(x))\n",
    "        x = torch.relu(self.fc2(x))\n",
    "        x = self.sigmoid(self.fc3(x))\n",
    "        return x\n"
   ]
  },
  {
   "cell_type": "code",
   "execution_count": 12,
   "metadata": {},
   "outputs": [],
   "source": [
    "# Define binary classification model\n",
    "binary_model = Binary_model(input_dim=X_train_tensor.shape[1])\n",
    "\n",
    "# Define loss function and optimizer for binary classification\n",
    "criterion_binary = nn.BCELoss()\n",
    "optimizer_binary = optim.Adam(binary_model.parameters(), lr=0.001)"
   ]
  },
  {
   "cell_type": "code",
   "execution_count": 13,
   "metadata": {},
   "outputs": [],
   "source": [
    "def train_model(model, criterion, optimizer, train_loader):\n",
    "    model.train()  # Set the model to train mode\n",
    "    total_correct = 0\n",
    "    total_samples = 0\n",
    "    total_loss = 0.0\n",
    "    \n",
    "    for inputs, targets in train_loader:\n",
    "        optimizer.zero_grad()  # Zero the gradients\n",
    "        outputs = model(inputs)  # Forward pass\n",
    "        loss = criterion(outputs, targets)  # Compute the loss\n",
    "        loss.backward()  # Backward pass\n",
    "        optimizer.step()  # Update parameters\n",
    "        \n",
    "        # Calculate training accuracy\n",
    "        predicted = torch.round(outputs)\n",
    "        total_correct += (predicted == targets).sum().item()\n",
    "        total_samples += targets.size(0)\n",
    "        total_loss += loss.item()\n",
    "\n",
    "    accuracy = total_correct / total_samples\n",
    "    average_loss = total_loss / len(train_loader)\n",
    "    \n",
    "    return average_loss, accuracy"
   ]
  },
  {
   "cell_type": "code",
   "execution_count": 14,
   "metadata": {},
   "outputs": [],
   "source": [
    "def validate_model(model, criterion, val_loader):\n",
    "    model.eval()  # Set the model to evaluation mode\n",
    "    total_correct = 0\n",
    "    total_samples = 0\n",
    "    total_loss = 0.0\n",
    "    \n",
    "    with torch.no_grad():\n",
    "        for inputs, targets in val_loader:\n",
    "            outputs = model(inputs)\n",
    "            loss = criterion(outputs, targets)\n",
    "           \n",
    "           # Calculate the validation accuracy\n",
    "            predicted = torch.round(outputs)\n",
    "            total_correct += (predicted == targets).sum().item()\n",
    "            total_samples += targets.size(0)\n",
    "            total_loss += loss.item()\n",
    "\n",
    "    accuracy = total_correct / total_samples\n",
    "    average_loss = total_loss / len(val_loader)\n",
    "    \n",
    "    return average_loss, accuracy\n"
   ]
  },
  {
   "cell_type": "code",
   "execution_count": 15,
   "metadata": {},
   "outputs": [],
   "source": [
    "def test_model(model, criterion, test_loader):\n",
    "    model.eval()\n",
    "    total_correct = 0\n",
    "    total_samples = 0\n",
    "    total_loss = 0.0\n",
    "    \n",
    "    with torch.no_grad():\n",
    "        for inputs, targets in test_loader:\n",
    "            outputs = model(inputs)\n",
    "            loss = criterion(outputs, targets)\n",
    " \n",
    "            #Calculate the test accuracy\n",
    "            predicted = torch.round(outputs)\n",
    "            total_correct += (predicted == targets).sum().item()\n",
    "            total_samples += targets.size(0)\n",
    "            total_loss += loss.item()\n",
    "\n",
    "    accuracy = total_correct / total_samples\n",
    "    average_loss = total_loss / len(test_loader)\n",
    "    \n",
    "    return average_loss, accuracy"
   ]
  },
  {
   "cell_type": "code",
   "execution_count": 16,
   "metadata": {},
   "outputs": [
    {
     "name": "stdout",
     "output_type": "stream",
     "text": [
      "Epoch 1/20, Binary Classification Training Loss: 0.2602, Training Accuracy: 0.8895, Validation Loss: 0.2045, Validation Accuracy: 0.9140\n",
      "Epoch 2/20, Binary Classification Training Loss: 0.1860, Training Accuracy: 0.9262, Validation Loss: 0.1803, Validation Accuracy: 0.9210\n",
      "Epoch 3/20, Binary Classification Training Loss: 0.1633, Training Accuracy: 0.9332, Validation Loss: 0.2090, Validation Accuracy: 0.9100\n",
      "Epoch 4/20, Binary Classification Training Loss: 0.1474, Training Accuracy: 0.9410, Validation Loss: 0.1489, Validation Accuracy: 0.9370\n",
      "Epoch 5/20, Binary Classification Training Loss: 0.1336, Training Accuracy: 0.9484, Validation Loss: 0.1571, Validation Accuracy: 0.9400\n",
      "Epoch 6/20, Binary Classification Training Loss: 0.1247, Training Accuracy: 0.9508, Validation Loss: 0.1984, Validation Accuracy: 0.9250\n",
      "Epoch 7/20, Binary Classification Training Loss: 0.1186, Training Accuracy: 0.9539, Validation Loss: 0.1997, Validation Accuracy: 0.9250\n",
      "Epoch 8/20, Binary Classification Training Loss: 0.1108, Training Accuracy: 0.9565, Validation Loss: 0.1361, Validation Accuracy: 0.9470\n",
      "Epoch 9/20, Binary Classification Training Loss: 0.1067, Training Accuracy: 0.9579, Validation Loss: 0.1124, Validation Accuracy: 0.9580\n",
      "Epoch 10/20, Binary Classification Training Loss: 0.1032, Training Accuracy: 0.9605, Validation Loss: 0.1302, Validation Accuracy: 0.9530\n",
      "Epoch 11/20, Binary Classification Training Loss: 0.0992, Training Accuracy: 0.9636, Validation Loss: 0.1252, Validation Accuracy: 0.9590\n",
      "Epoch 12/20, Binary Classification Training Loss: 0.0958, Training Accuracy: 0.9640, Validation Loss: 0.1635, Validation Accuracy: 0.9370\n",
      "Epoch 13/20, Binary Classification Training Loss: 0.0943, Training Accuracy: 0.9651, Validation Loss: 0.1706, Validation Accuracy: 0.9390\n",
      "Epoch 14/20, Binary Classification Training Loss: 0.0928, Training Accuracy: 0.9618, Validation Loss: 0.1252, Validation Accuracy: 0.9570\n",
      "Epoch 15/20, Binary Classification Training Loss: 0.0880, Training Accuracy: 0.9664, Validation Loss: 0.1520, Validation Accuracy: 0.9500\n",
      "Epoch 16/20, Binary Classification Training Loss: 0.0882, Training Accuracy: 0.9670, Validation Loss: 0.1258, Validation Accuracy: 0.9590\n",
      "Epoch 17/20, Binary Classification Training Loss: 0.0867, Training Accuracy: 0.9669, Validation Loss: 0.1205, Validation Accuracy: 0.9550\n",
      "Epoch 18/20, Binary Classification Training Loss: 0.0843, Training Accuracy: 0.9669, Validation Loss: 0.1608, Validation Accuracy: 0.9520\n",
      "Epoch 19/20, Binary Classification Training Loss: 0.0816, Training Accuracy: 0.9683, Validation Loss: 0.1224, Validation Accuracy: 0.9610\n",
      "Epoch 20/20, Binary Classification Training Loss: 0.0817, Training Accuracy: 0.9700, Validation Loss: 0.1637, Validation Accuracy: 0.9470\n",
      "Binary Classification Test Loss: 0.2101, Test Accuracy: 0.9481\n"
     ]
    }
   ],
   "source": [
    "# Training loop for binary classification\n",
    "num_epochs_binary = 20\n",
    "for epoch in range(num_epochs_binary):\n",
    "    train_loss, train_accuracy = train_model(binary_model, criterion_binary, optimizer_binary, train_loader_binary)\n",
    "    val_loss, val_accuracy = validate_model(binary_model, criterion_binary, val_loader_binary)\n",
    "    \n",
    "    print(f'Epoch {epoch+1}/{num_epochs_binary}, Binary Classification Training Loss: {train_loss:.4f}, Training Accuracy: {train_accuracy:.4f}, Validation Loss: {val_loss:.4f}, Validation Accuracy: {val_accuracy:.4f}')\n",
    "\n",
    "# Testing for binary classification\n",
    "test_loss, test_accuracy = test_model(binary_model, criterion_binary, test_loader_binary)\n",
    "print(f'Binary Classification Test Loss: {test_loss:.4f}, Test Accuracy: {test_accuracy:.4f}')"
   ]
  },
  {
   "cell_type": "code",
   "execution_count": null,
   "metadata": {},
   "outputs": [],
   "source": [
    "# Compute F1 score for the entire test dataset\n",
    "y_true_entire = y_test_binary_tensor.numpy() # Get the true labels\n",
    "y_pred_entire = [] # Initialise the predicted labels as a list\n",
    "\n",
    "with torch.no_grad():\n",
    "    for inputs, _ in test_loader_binary:\n",
    "        outputs = binary_model(inputs)\n",
    "        predicted = torch.round(outputs)\n",
    "        y_pred_entire.extend(predicted.numpy())\n",
    "\n",
    "f1_entire = f1_score(y_true_entire, y_pred_entire)\n",
    "print(f'F1 Score for Entire Test Dataset: {f1_entire:.4f}')"
   ]
  },
  {
   "cell_type": "code",
   "execution_count": 17,
   "metadata": {},
   "outputs": [],
   "source": [
    "# Testing function for binary classification on failure samples within the test dataset\n",
    "def test_binary_failure(binary_model, criterion_binary, test_loader_binary):\n",
    "    binary_model.eval()\n",
    "    total_correct = 0\n",
    "    total_samples = 0\n",
    "    total_loss = 0.0\n",
    "    \n",
    "    with torch.no_grad():\n",
    "        for inputs, targets in test_loader_binary:\n",
    "            # Filter samples with failure (target = 1)\n",
    "            mask = (targets == 1).view(-1)\n",
    "            inputs_failure = inputs[mask]\n",
    "            targets_failure = targets[mask]\n",
    "            if len(targets_failure) == 0:\n",
    "                continue  # Skip if no failure samples in the batch\n",
    "            \n",
    "            outputs = binary_model(inputs_failure)\n",
    "            loss = criterion_binary(outputs, targets_failure)\n",
    "            predicted = torch.round(outputs)\n",
    "            total_correct += (predicted == targets_failure).sum().item()\n",
    "            total_samples += targets_failure.size(0)\n",
    "            total_loss += loss.item()\n",
    "\n",
    "    accuracy = total_correct / total_samples if total_samples > 0 else 0.0\n",
    "    average_loss = total_loss / len(test_loader_binary) if len(test_loader_binary) > 0 else 0.0\n",
    "    \n",
    "    return average_loss, accuracy"
   ]
  },
  {
   "cell_type": "code",
   "execution_count": 18,
   "metadata": {},
   "outputs": [
    {
     "name": "stdout",
     "output_type": "stream",
     "text": [
      "Binary Classification Test Loss on Failure Samples: 0.0940, Test Accuracy on Failure Samples: 0.7647\n"
     ]
    }
   ],
   "source": [
    "# Testing on failure samples for binary classification\n",
    "test_loss_failure_binary, test_accuracy_failure_binary = test_binary_failure(binary_model, criterion_binary, test_loader_binary)\n",
    "print(f'Binary Classification Test Loss on Failure Samples: {test_loss_failure_binary:.4f}, Test Accuracy on Failure Samples: {test_accuracy_failure_binary:.4f}')\n"
   ]
  },
  {
   "cell_type": "code",
   "execution_count": 19,
   "metadata": {},
   "outputs": [],
   "source": [
    "# Function to compute precision and recall for the binary classification model\n",
    "def compute_precision_recall_binary(binary_model, test_loader_binary):\n",
    "    binary_model.eval()\n",
    "    y_true = []\n",
    "    y_scores = []\n",
    "\n",
    "    with torch.no_grad():\n",
    "        for inputs, targets in test_loader_binary:\n",
    "            outputs = binary_model(inputs)\n",
    "            y_true.extend(targets.numpy())\n",
    "            y_scores.extend(outputs.numpy())\n",
    "\n",
    "    return y_true, y_scores"
   ]
  },
  {
   "cell_type": "code",
   "execution_count": 20,
   "metadata": {},
   "outputs": [],
   "source": [
    "# Compute precision and recall for the binary classification model\n",
    "y_true_binary, y_scores_binary = compute_precision_recall_binary(binary_model, test_loader_binary)"
   ]
  },
  {
   "cell_type": "code",
   "execution_count": 21,
   "metadata": {},
   "outputs": [
    {
     "name": "stdout",
     "output_type": "stream",
     "text": [
      "AUC-PR: 0.7206361489095586\n"
     ]
    },
    {
     "data": {
      "image/png": "[encoded data removed]",
      "text/plain": [
       "<Figure size 432x288 with 1 Axes>"
      ]
     },
     "metadata": {
      "needs_background": "light"
     },
     "output_type": "display_data"
    }
   ],
   "source": [
    "# Plot precision-recall curve for binary classification\n",
    "precision_binary, recall_binary, _ = precision_recall_curve(y_true_binary, y_scores_binary)\n",
    "auc_pr = auc(recall_binary, precision_binary)\n",
    "print(\"AUC-PR:\", auc_pr)\n",
    "\n",
    "plt.plot(recall_binary, precision_binary, label='Binary Classification', color='red')\n",
    "plt.xlabel('Recall')\n",
    "plt.ylabel('Precision')\n",
    "plt.title('Precision-Recall Curve for Neural Network (Balanced Dataset)')\n",
    "plt.legend()\n",
    "plt.show()"
   ]
  },
  {
   "cell_type": "code",
   "execution_count": 23,
   "metadata": {},
   "outputs": [
    {
     "name": "stdout",
     "output_type": "stream",
     "text": [
      "Best Validation Loss: 0.2018, Best Params: {'batch_size': 64, 'learn_rate': 0.01}\n",
      "Best Combination Test Loss: 0.2101, Test Accuracy: 0.9481\n"
     ]
    }
   ],
   "source": [
    "# Grid search for binary classification\n",
    "batch_sizes = [8, 16, 32, 64]\n",
    "learn_rates = [0.1, 0.01, 0.001]\n",
    "\n",
    "best_binary_model = None\n",
    "best_binary_val_loss = float('inf')\n",
    "best_binary_params = {}\n",
    "\n",
    "for batch_size in batch_sizes:\n",
    "    for learn_rate in learn_rates:\n",
    "        train_loader_binary = DataLoader(train_dataset_binary, batch_size=batch_size, shuffle=True)\n",
    "        val_loader_binary = DataLoader(val_dataset_binary, batch_size=batch_size, shuffle=False)\n",
    "        test_loader_binary = DataLoader(test_dataset_binary, batch_size=batch_size, shuffle=False)\n",
    "        \n",
    "        model = Binary_model(input_dim=X_train_tensor.shape[1])\n",
    "        criterion = nn.BCELoss()\n",
    "        optimizer = optim.Adam(model.parameters(), lr=learn_rate)\n",
    "        \n",
    "        train_losses, _ = train_model(model, criterion, optimizer, train_loader_binary)\n",
    "        val_losses, _ = validate_model(model, criterion, val_loader_binary)\n",
    "        \n",
    "        # Check if the validation loss is less than the current best validation loss. If so, update the best validation loss\n",
    "        if val_losses < best_binary_val_loss:\n",
    "            best_binary_val_loss = val_losses\n",
    "            best_binary_model = model\n",
    "            best_binary_params['batch_size'] = batch_size\n",
    "            best_binary_params['learn_rate'] = learn_rate\n",
    "\n",
    "print(f'Best Validation Loss: {best_binary_val_loss:.4f}, Best Params: {best_binary_params}')\n",
    "\n",
    "test_model(best_binary_model, criterion_binary, test_loader_binary)\n",
    "print(f'Best Combination Test Loss: {test_loss:.4f}, Test Accuracy: {test_accuracy:.4f}')"
   ]
  }
 ],
 "metadata": {
  "kernelspec": {
   "display_name": "Python 3",
   "language": "python",
   "name": "python3"
  },
  "language_info": {
   "codemirror_mode": {
    "name": "ipython",
    "version": 3
   },
   "file_extension": ".py",
   "mimetype": "text/x-python",
   "name": "python",
   "nbconvert_exporter": "python",
   "pygments_lexer": "ipython3",
   "version": "3.11.5"
  }
 },
 "nbformat": 4,
 "nbformat_minor": 2
}
